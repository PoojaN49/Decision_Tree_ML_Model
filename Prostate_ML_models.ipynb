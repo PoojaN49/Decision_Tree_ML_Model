{
 "cells": [
  {
   "cell_type": "markdown",
   "metadata": {},
   "source": [
    "# Prostate Cancer"
   ]
  },
  {
   "cell_type": "markdown",
   "metadata": {},
   "source": [
    "The data, taken from Stamey et al.\n",
    "(1989), contains the results of biopsies on 97 men of various ages\n",
    "The biopsy information includes:\n",
    "Gleason score (gleason): scores are assigned to the two most common tumor\n",
    "patterns ranging from 2 to 10; in this data set, the range is from 6 to 9.\n",
    "Prostate-specific antigen (psa): laboratory results on protein production.\n",
    "Capsular penetration (cp): reach of cancer into the gland lining.\n",
    "Benign prostatic hyperplasia amount (bph): size of the prostate.\n",
    "The goal is to predict the tumor log volume (which measures the tumor’s size or\n",
    "spread). We try to predict this variable from five covariates (age; logarithms of bph,\n",
    "cp, and psa; and the Gleason score). The predicted size of the tumor has important\n",
    "implications for the subsequent treatment options, which include chemotherapy,\n",
    "radiation treatment, and surgical removal of the prostate.\n",
    "Here the response is a\n",
    "continuous measurement variable, and we are dealing with a regression tree. We\n",
    "use the sum of squared residuals as the impurity (fitting) criterion"
   ]
  },
  {
   "cell_type": "markdown",
   "metadata": {},
   "source": [
    "* 1.Data Pre-processing\n",
    "* 2.Data is trained with various Machine Learning Model \n",
    "* 3.Decision Tree Classifier \n",
    "* 4.Underfitting and Overfitting\n",
    "  * 1. Early Stopping condition\n",
    "  * 2. Even Best cost_complexity ccp_alpha to overcome Underfitting and Overfitting\n",
    "* 5.  SVM\n",
    "* 6. Logistic Regression\n",
    "* 7. Navie Bayes\n",
    "* 8. KNN\n",
    "* Compare all the model results and select Better Performing Model"
   ]
  },
  {
   "cell_type": "code",
   "execution_count": 352,
   "metadata": {},
   "outputs": [
    {
     "data": {
      "text/plain": [
       "'0.22.1'"
      ]
     },
     "execution_count": 352,
     "metadata": {},
     "output_type": "execute_result"
    }
   ],
   "source": [
    "\n",
    "import sklearn\n",
    "sklearn.__version__"
   ]
  },
  {
   "cell_type": "code",
   "execution_count": 353,
   "metadata": {},
   "outputs": [],
   "source": [
    "import pandas as pd\n",
    "df=pd.read_csv(\"F:\\\\Prostate_Cancer.csv\")"
   ]
  },
  {
   "cell_type": "code",
   "execution_count": 400,
   "metadata": {},
   "outputs": [
    {
     "data": {
      "text/html": [
       "<div>\n",
       "<style scoped>\n",
       "    .dataframe tbody tr th:only-of-type {\n",
       "        vertical-align: middle;\n",
       "    }\n",
       "\n",
       "    .dataframe tbody tr th {\n",
       "        vertical-align: top;\n",
       "    }\n",
       "\n",
       "    .dataframe thead th {\n",
       "        text-align: right;\n",
       "    }\n",
       "</style>\n",
       "<table border=\"1\" class=\"dataframe\">\n",
       "  <thead>\n",
       "    <tr style=\"text-align: right;\">\n",
       "      <th></th>\n",
       "      <th>id</th>\n",
       "      <th>diagnosis_result</th>\n",
       "      <th>radius</th>\n",
       "      <th>texture</th>\n",
       "      <th>perimeter</th>\n",
       "      <th>area</th>\n",
       "      <th>smoothness</th>\n",
       "      <th>compactness</th>\n",
       "      <th>symmetry</th>\n",
       "      <th>fractal_dimension</th>\n",
       "    </tr>\n",
       "  </thead>\n",
       "  <tbody>\n",
       "    <tr>\n",
       "      <th>0</th>\n",
       "      <td>1</td>\n",
       "      <td>M</td>\n",
       "      <td>23</td>\n",
       "      <td>12</td>\n",
       "      <td>151</td>\n",
       "      <td>954</td>\n",
       "      <td>0.143</td>\n",
       "      <td>0.278</td>\n",
       "      <td>0.242</td>\n",
       "      <td>0.079</td>\n",
       "    </tr>\n",
       "    <tr>\n",
       "      <th>1</th>\n",
       "      <td>2</td>\n",
       "      <td>B</td>\n",
       "      <td>9</td>\n",
       "      <td>13</td>\n",
       "      <td>133</td>\n",
       "      <td>1326</td>\n",
       "      <td>0.143</td>\n",
       "      <td>0.079</td>\n",
       "      <td>0.181</td>\n",
       "      <td>0.057</td>\n",
       "    </tr>\n",
       "    <tr>\n",
       "      <th>2</th>\n",
       "      <td>3</td>\n",
       "      <td>M</td>\n",
       "      <td>21</td>\n",
       "      <td>27</td>\n",
       "      <td>130</td>\n",
       "      <td>1203</td>\n",
       "      <td>0.125</td>\n",
       "      <td>0.160</td>\n",
       "      <td>0.207</td>\n",
       "      <td>0.060</td>\n",
       "    </tr>\n",
       "    <tr>\n",
       "      <th>3</th>\n",
       "      <td>4</td>\n",
       "      <td>M</td>\n",
       "      <td>14</td>\n",
       "      <td>16</td>\n",
       "      <td>78</td>\n",
       "      <td>386</td>\n",
       "      <td>0.070</td>\n",
       "      <td>0.284</td>\n",
       "      <td>0.260</td>\n",
       "      <td>0.097</td>\n",
       "    </tr>\n",
       "    <tr>\n",
       "      <th>4</th>\n",
       "      <td>5</td>\n",
       "      <td>M</td>\n",
       "      <td>9</td>\n",
       "      <td>19</td>\n",
       "      <td>135</td>\n",
       "      <td>1297</td>\n",
       "      <td>0.141</td>\n",
       "      <td>0.133</td>\n",
       "      <td>0.181</td>\n",
       "      <td>0.059</td>\n",
       "    </tr>\n",
       "    <tr>\n",
       "      <th>5</th>\n",
       "      <td>6</td>\n",
       "      <td>B</td>\n",
       "      <td>25</td>\n",
       "      <td>25</td>\n",
       "      <td>83</td>\n",
       "      <td>477</td>\n",
       "      <td>0.128</td>\n",
       "      <td>0.170</td>\n",
       "      <td>0.209</td>\n",
       "      <td>0.076</td>\n",
       "    </tr>\n",
       "    <tr>\n",
       "      <th>6</th>\n",
       "      <td>7</td>\n",
       "      <td>M</td>\n",
       "      <td>16</td>\n",
       "      <td>26</td>\n",
       "      <td>120</td>\n",
       "      <td>1040</td>\n",
       "      <td>0.095</td>\n",
       "      <td>0.109</td>\n",
       "      <td>0.179</td>\n",
       "      <td>0.057</td>\n",
       "    </tr>\n",
       "    <tr>\n",
       "      <th>7</th>\n",
       "      <td>8</td>\n",
       "      <td>M</td>\n",
       "      <td>15</td>\n",
       "      <td>18</td>\n",
       "      <td>90</td>\n",
       "      <td>578</td>\n",
       "      <td>0.119</td>\n",
       "      <td>0.165</td>\n",
       "      <td>0.220</td>\n",
       "      <td>0.075</td>\n",
       "    </tr>\n",
       "    <tr>\n",
       "      <th>8</th>\n",
       "      <td>9</td>\n",
       "      <td>M</td>\n",
       "      <td>19</td>\n",
       "      <td>24</td>\n",
       "      <td>88</td>\n",
       "      <td>520</td>\n",
       "      <td>0.127</td>\n",
       "      <td>0.193</td>\n",
       "      <td>0.235</td>\n",
       "      <td>0.074</td>\n",
       "    </tr>\n",
       "    <tr>\n",
       "      <th>9</th>\n",
       "      <td>10</td>\n",
       "      <td>M</td>\n",
       "      <td>25</td>\n",
       "      <td>11</td>\n",
       "      <td>84</td>\n",
       "      <td>476</td>\n",
       "      <td>0.119</td>\n",
       "      <td>0.240</td>\n",
       "      <td>0.203</td>\n",
       "      <td>0.082</td>\n",
       "    </tr>\n",
       "    <tr>\n",
       "      <th>10</th>\n",
       "      <td>11</td>\n",
       "      <td>M</td>\n",
       "      <td>24</td>\n",
       "      <td>21</td>\n",
       "      <td>103</td>\n",
       "      <td>798</td>\n",
       "      <td>0.082</td>\n",
       "      <td>0.067</td>\n",
       "      <td>0.153</td>\n",
       "      <td>0.057</td>\n",
       "    </tr>\n",
       "    <tr>\n",
       "      <th>11</th>\n",
       "      <td>12</td>\n",
       "      <td>M</td>\n",
       "      <td>17</td>\n",
       "      <td>15</td>\n",
       "      <td>104</td>\n",
       "      <td>781</td>\n",
       "      <td>0.097</td>\n",
       "      <td>0.129</td>\n",
       "      <td>0.184</td>\n",
       "      <td>0.061</td>\n",
       "    </tr>\n",
       "    <tr>\n",
       "      <th>12</th>\n",
       "      <td>13</td>\n",
       "      <td>B</td>\n",
       "      <td>14</td>\n",
       "      <td>15</td>\n",
       "      <td>132</td>\n",
       "      <td>1123</td>\n",
       "      <td>0.097</td>\n",
       "      <td>0.246</td>\n",
       "      <td>0.240</td>\n",
       "      <td>0.078</td>\n",
       "    </tr>\n",
       "    <tr>\n",
       "      <th>13</th>\n",
       "      <td>14</td>\n",
       "      <td>M</td>\n",
       "      <td>12</td>\n",
       "      <td>22</td>\n",
       "      <td>104</td>\n",
       "      <td>783</td>\n",
       "      <td>0.084</td>\n",
       "      <td>0.100</td>\n",
       "      <td>0.185</td>\n",
       "      <td>0.053</td>\n",
       "    </tr>\n",
       "    <tr>\n",
       "      <th>14</th>\n",
       "      <td>15</td>\n",
       "      <td>M</td>\n",
       "      <td>12</td>\n",
       "      <td>13</td>\n",
       "      <td>94</td>\n",
       "      <td>578</td>\n",
       "      <td>0.113</td>\n",
       "      <td>0.229</td>\n",
       "      <td>0.207</td>\n",
       "      <td>0.077</td>\n",
       "    </tr>\n",
       "    <tr>\n",
       "      <th>15</th>\n",
       "      <td>16</td>\n",
       "      <td>M</td>\n",
       "      <td>22</td>\n",
       "      <td>19</td>\n",
       "      <td>97</td>\n",
       "      <td>659</td>\n",
       "      <td>0.114</td>\n",
       "      <td>0.160</td>\n",
       "      <td>0.230</td>\n",
       "      <td>0.071</td>\n",
       "    </tr>\n",
       "    <tr>\n",
       "      <th>16</th>\n",
       "      <td>17</td>\n",
       "      <td>M</td>\n",
       "      <td>10</td>\n",
       "      <td>16</td>\n",
       "      <td>95</td>\n",
       "      <td>685</td>\n",
       "      <td>0.099</td>\n",
       "      <td>0.072</td>\n",
       "      <td>0.159</td>\n",
       "      <td>0.059</td>\n",
       "    </tr>\n",
       "    <tr>\n",
       "      <th>17</th>\n",
       "      <td>18</td>\n",
       "      <td>M</td>\n",
       "      <td>15</td>\n",
       "      <td>14</td>\n",
       "      <td>108</td>\n",
       "      <td>799</td>\n",
       "      <td>0.117</td>\n",
       "      <td>0.202</td>\n",
       "      <td>0.216</td>\n",
       "      <td>0.074</td>\n",
       "    </tr>\n",
       "    <tr>\n",
       "      <th>18</th>\n",
       "      <td>19</td>\n",
       "      <td>M</td>\n",
       "      <td>20</td>\n",
       "      <td>14</td>\n",
       "      <td>130</td>\n",
       "      <td>1260</td>\n",
       "      <td>0.098</td>\n",
       "      <td>0.103</td>\n",
       "      <td>0.158</td>\n",
       "      <td>0.054</td>\n",
       "    </tr>\n",
       "    <tr>\n",
       "      <th>19</th>\n",
       "      <td>20</td>\n",
       "      <td>B</td>\n",
       "      <td>17</td>\n",
       "      <td>11</td>\n",
       "      <td>87</td>\n",
       "      <td>566</td>\n",
       "      <td>0.098</td>\n",
       "      <td>0.081</td>\n",
       "      <td>0.189</td>\n",
       "      <td>0.058</td>\n",
       "    </tr>\n",
       "    <tr>\n",
       "      <th>20</th>\n",
       "      <td>21</td>\n",
       "      <td>B</td>\n",
       "      <td>16</td>\n",
       "      <td>14</td>\n",
       "      <td>86</td>\n",
       "      <td>520</td>\n",
       "      <td>0.108</td>\n",
       "      <td>0.127</td>\n",
       "      <td>0.197</td>\n",
       "      <td>0.068</td>\n",
       "    </tr>\n",
       "    <tr>\n",
       "      <th>21</th>\n",
       "      <td>22</td>\n",
       "      <td>B</td>\n",
       "      <td>17</td>\n",
       "      <td>24</td>\n",
       "      <td>60</td>\n",
       "      <td>274</td>\n",
       "      <td>0.102</td>\n",
       "      <td>0.065</td>\n",
       "      <td>0.182</td>\n",
       "      <td>0.069</td>\n",
       "    </tr>\n",
       "    <tr>\n",
       "      <th>22</th>\n",
       "      <td>23</td>\n",
       "      <td>M</td>\n",
       "      <td>20</td>\n",
       "      <td>27</td>\n",
       "      <td>103</td>\n",
       "      <td>704</td>\n",
       "      <td>0.107</td>\n",
       "      <td>0.214</td>\n",
       "      <td>0.252</td>\n",
       "      <td>0.070</td>\n",
       "    </tr>\n",
       "    <tr>\n",
       "      <th>23</th>\n",
       "      <td>24</td>\n",
       "      <td>M</td>\n",
       "      <td>19</td>\n",
       "      <td>12</td>\n",
       "      <td>137</td>\n",
       "      <td>1404</td>\n",
       "      <td>0.094</td>\n",
       "      <td>0.102</td>\n",
       "      <td>0.177</td>\n",
       "      <td>0.053</td>\n",
       "    </tr>\n",
       "    <tr>\n",
       "      <th>24</th>\n",
       "      <td>25</td>\n",
       "      <td>M</td>\n",
       "      <td>9</td>\n",
       "      <td>13</td>\n",
       "      <td>110</td>\n",
       "      <td>905</td>\n",
       "      <td>0.112</td>\n",
       "      <td>0.146</td>\n",
       "      <td>0.200</td>\n",
       "      <td>0.063</td>\n",
       "    </tr>\n",
       "    <tr>\n",
       "      <th>25</th>\n",
       "      <td>26</td>\n",
       "      <td>M</td>\n",
       "      <td>19</td>\n",
       "      <td>27</td>\n",
       "      <td>116</td>\n",
       "      <td>913</td>\n",
       "      <td>0.119</td>\n",
       "      <td>0.228</td>\n",
       "      <td>0.304</td>\n",
       "      <td>0.074</td>\n",
       "    </tr>\n",
       "    <tr>\n",
       "      <th>26</th>\n",
       "      <td>27</td>\n",
       "      <td>M</td>\n",
       "      <td>10</td>\n",
       "      <td>24</td>\n",
       "      <td>97</td>\n",
       "      <td>645</td>\n",
       "      <td>0.105</td>\n",
       "      <td>0.187</td>\n",
       "      <td>0.225</td>\n",
       "      <td>0.069</td>\n",
       "    </tr>\n",
       "    <tr>\n",
       "      <th>27</th>\n",
       "      <td>28</td>\n",
       "      <td>M</td>\n",
       "      <td>16</td>\n",
       "      <td>24</td>\n",
       "      <td>122</td>\n",
       "      <td>1094</td>\n",
       "      <td>0.094</td>\n",
       "      <td>0.107</td>\n",
       "      <td>0.170</td>\n",
       "      <td>0.057</td>\n",
       "    </tr>\n",
       "    <tr>\n",
       "      <th>28</th>\n",
       "      <td>29</td>\n",
       "      <td>M</td>\n",
       "      <td>15</td>\n",
       "      <td>15</td>\n",
       "      <td>102</td>\n",
       "      <td>732</td>\n",
       "      <td>0.108</td>\n",
       "      <td>0.170</td>\n",
       "      <td>0.193</td>\n",
       "      <td>0.065</td>\n",
       "    </tr>\n",
       "    <tr>\n",
       "      <th>29</th>\n",
       "      <td>30</td>\n",
       "      <td>M</td>\n",
       "      <td>11</td>\n",
       "      <td>16</td>\n",
       "      <td>115</td>\n",
       "      <td>955</td>\n",
       "      <td>0.098</td>\n",
       "      <td>0.116</td>\n",
       "      <td>0.174</td>\n",
       "      <td>0.061</td>\n",
       "    </tr>\n",
       "    <tr>\n",
       "      <th>30</th>\n",
       "      <td>31</td>\n",
       "      <td>M</td>\n",
       "      <td>11</td>\n",
       "      <td>22</td>\n",
       "      <td>125</td>\n",
       "      <td>1088</td>\n",
       "      <td>0.106</td>\n",
       "      <td>0.189</td>\n",
       "      <td>0.218</td>\n",
       "      <td>0.062</td>\n",
       "    </tr>\n",
       "    <tr>\n",
       "      <th>31</th>\n",
       "      <td>32</td>\n",
       "      <td>M</td>\n",
       "      <td>23</td>\n",
       "      <td>26</td>\n",
       "      <td>78</td>\n",
       "      <td>441</td>\n",
       "      <td>0.111</td>\n",
       "      <td>0.152</td>\n",
       "      <td>0.230</td>\n",
       "      <td>0.078</td>\n",
       "    </tr>\n",
       "    <tr>\n",
       "      <th>32</th>\n",
       "      <td>33</td>\n",
       "      <td>M</td>\n",
       "      <td>20</td>\n",
       "      <td>18</td>\n",
       "      <td>113</td>\n",
       "      <td>899</td>\n",
       "      <td>0.120</td>\n",
       "      <td>0.150</td>\n",
       "      <td>0.225</td>\n",
       "      <td>0.064</td>\n",
       "    </tr>\n",
       "    <tr>\n",
       "      <th>33</th>\n",
       "      <td>34</td>\n",
       "      <td>M</td>\n",
       "      <td>11</td>\n",
       "      <td>21</td>\n",
       "      <td>128</td>\n",
       "      <td>1162</td>\n",
       "      <td>0.094</td>\n",
       "      <td>0.172</td>\n",
       "      <td>0.185</td>\n",
       "      <td>0.063</td>\n",
       "    </tr>\n",
       "    <tr>\n",
       "      <th>34</th>\n",
       "      <td>35</td>\n",
       "      <td>M</td>\n",
       "      <td>16</td>\n",
       "      <td>23</td>\n",
       "      <td>107</td>\n",
       "      <td>807</td>\n",
       "      <td>0.104</td>\n",
       "      <td>0.156</td>\n",
       "      <td>0.200</td>\n",
       "      <td>0.065</td>\n",
       "    </tr>\n",
       "    <tr>\n",
       "      <th>35</th>\n",
       "      <td>36</td>\n",
       "      <td>M</td>\n",
       "      <td>10</td>\n",
       "      <td>13</td>\n",
       "      <td>110</td>\n",
       "      <td>870</td>\n",
       "      <td>0.096</td>\n",
       "      <td>0.134</td>\n",
       "      <td>0.190</td>\n",
       "      <td>0.057</td>\n",
       "    </tr>\n",
       "    <tr>\n",
       "      <th>36</th>\n",
       "      <td>37</td>\n",
       "      <td>M</td>\n",
       "      <td>18</td>\n",
       "      <td>12</td>\n",
       "      <td>94</td>\n",
       "      <td>633</td>\n",
       "      <td>0.098</td>\n",
       "      <td>0.110</td>\n",
       "      <td>0.189</td>\n",
       "      <td>0.061</td>\n",
       "    </tr>\n",
       "    <tr>\n",
       "      <th>37</th>\n",
       "      <td>38</td>\n",
       "      <td>B</td>\n",
       "      <td>21</td>\n",
       "      <td>11</td>\n",
       "      <td>83</td>\n",
       "      <td>524</td>\n",
       "      <td>0.090</td>\n",
       "      <td>0.038</td>\n",
       "      <td>0.147</td>\n",
       "      <td>0.059</td>\n",
       "    </tr>\n",
       "    <tr>\n",
       "      <th>38</th>\n",
       "      <td>39</td>\n",
       "      <td>M</td>\n",
       "      <td>11</td>\n",
       "      <td>15</td>\n",
       "      <td>96</td>\n",
       "      <td>699</td>\n",
       "      <td>0.094</td>\n",
       "      <td>0.051</td>\n",
       "      <td>0.157</td>\n",
       "      <td>0.055</td>\n",
       "    </tr>\n",
       "    <tr>\n",
       "      <th>39</th>\n",
       "      <td>40</td>\n",
       "      <td>M</td>\n",
       "      <td>10</td>\n",
       "      <td>14</td>\n",
       "      <td>88</td>\n",
       "      <td>559</td>\n",
       "      <td>0.102</td>\n",
       "      <td>0.126</td>\n",
       "      <td>0.172</td>\n",
       "      <td>0.064</td>\n",
       "    </tr>\n",
       "    <tr>\n",
       "      <th>40</th>\n",
       "      <td>41</td>\n",
       "      <td>M</td>\n",
       "      <td>24</td>\n",
       "      <td>16</td>\n",
       "      <td>86</td>\n",
       "      <td>563</td>\n",
       "      <td>0.082</td>\n",
       "      <td>0.060</td>\n",
       "      <td>0.178</td>\n",
       "      <td>0.056</td>\n",
       "    </tr>\n",
       "    <tr>\n",
       "      <th>41</th>\n",
       "      <td>42</td>\n",
       "      <td>M</td>\n",
       "      <td>19</td>\n",
       "      <td>27</td>\n",
       "      <td>72</td>\n",
       "      <td>371</td>\n",
       "      <td>0.123</td>\n",
       "      <td>0.122</td>\n",
       "      <td>0.190</td>\n",
       "      <td>0.069</td>\n",
       "    </tr>\n",
       "    <tr>\n",
       "      <th>42</th>\n",
       "      <td>43</td>\n",
       "      <td>M</td>\n",
       "      <td>11</td>\n",
       "      <td>11</td>\n",
       "      <td>128</td>\n",
       "      <td>1104</td>\n",
       "      <td>0.091</td>\n",
       "      <td>0.219</td>\n",
       "      <td>0.231</td>\n",
       "      <td>0.063</td>\n",
       "    </tr>\n",
       "    <tr>\n",
       "      <th>43</th>\n",
       "      <td>44</td>\n",
       "      <td>M</td>\n",
       "      <td>15</td>\n",
       "      <td>21</td>\n",
       "      <td>87</td>\n",
       "      <td>545</td>\n",
       "      <td>0.104</td>\n",
       "      <td>0.144</td>\n",
       "      <td>0.197</td>\n",
       "      <td>0.068</td>\n",
       "    </tr>\n",
       "    <tr>\n",
       "      <th>44</th>\n",
       "      <td>45</td>\n",
       "      <td>M</td>\n",
       "      <td>10</td>\n",
       "      <td>15</td>\n",
       "      <td>85</td>\n",
       "      <td>532</td>\n",
       "      <td>0.097</td>\n",
       "      <td>0.105</td>\n",
       "      <td>0.175</td>\n",
       "      <td>0.062</td>\n",
       "    </tr>\n",
       "    <tr>\n",
       "      <th>45</th>\n",
       "      <td>46</td>\n",
       "      <td>M</td>\n",
       "      <td>18</td>\n",
       "      <td>11</td>\n",
       "      <td>124</td>\n",
       "      <td>1076</td>\n",
       "      <td>0.110</td>\n",
       "      <td>0.169</td>\n",
       "      <td>0.191</td>\n",
       "      <td>0.060</td>\n",
       "    </tr>\n",
       "    <tr>\n",
       "      <th>46</th>\n",
       "      <td>47</td>\n",
       "      <td>B</td>\n",
       "      <td>22</td>\n",
       "      <td>12</td>\n",
       "      <td>52</td>\n",
       "      <td>202</td>\n",
       "      <td>0.086</td>\n",
       "      <td>0.059</td>\n",
       "      <td>0.177</td>\n",
       "      <td>0.065</td>\n",
       "    </tr>\n",
       "    <tr>\n",
       "      <th>47</th>\n",
       "      <td>48</td>\n",
       "      <td>M</td>\n",
       "      <td>20</td>\n",
       "      <td>14</td>\n",
       "      <td>86</td>\n",
       "      <td>535</td>\n",
       "      <td>0.116</td>\n",
       "      <td>0.123</td>\n",
       "      <td>0.213</td>\n",
       "      <td>0.068</td>\n",
       "    </tr>\n",
       "    <tr>\n",
       "      <th>48</th>\n",
       "      <td>49</td>\n",
       "      <td>B</td>\n",
       "      <td>20</td>\n",
       "      <td>21</td>\n",
       "      <td>78</td>\n",
       "      <td>449</td>\n",
       "      <td>0.103</td>\n",
       "      <td>0.091</td>\n",
       "      <td>0.168</td>\n",
       "      <td>0.060</td>\n",
       "    </tr>\n",
       "    <tr>\n",
       "      <th>49</th>\n",
       "      <td>50</td>\n",
       "      <td>B</td>\n",
       "      <td>25</td>\n",
       "      <td>11</td>\n",
       "      <td>87</td>\n",
       "      <td>561</td>\n",
       "      <td>0.088</td>\n",
       "      <td>0.077</td>\n",
       "      <td>0.181</td>\n",
       "      <td>0.057</td>\n",
       "    </tr>\n",
       "    <tr>\n",
       "      <th>50</th>\n",
       "      <td>51</td>\n",
       "      <td>B</td>\n",
       "      <td>19</td>\n",
       "      <td>25</td>\n",
       "      <td>75</td>\n",
       "      <td>428</td>\n",
       "      <td>0.086</td>\n",
       "      <td>0.050</td>\n",
       "      <td>0.150</td>\n",
       "      <td>0.059</td>\n",
       "    </tr>\n",
       "    <tr>\n",
       "      <th>51</th>\n",
       "      <td>52</td>\n",
       "      <td>B</td>\n",
       "      <td>19</td>\n",
       "      <td>22</td>\n",
       "      <td>87</td>\n",
       "      <td>572</td>\n",
       "      <td>0.077</td>\n",
       "      <td>0.061</td>\n",
       "      <td>0.135</td>\n",
       "      <td>0.060</td>\n",
       "    </tr>\n",
       "    <tr>\n",
       "      <th>52</th>\n",
       "      <td>53</td>\n",
       "      <td>B</td>\n",
       "      <td>25</td>\n",
       "      <td>15</td>\n",
       "      <td>76</td>\n",
       "      <td>438</td>\n",
       "      <td>0.083</td>\n",
       "      <td>0.048</td>\n",
       "      <td>0.187</td>\n",
       "      <td>0.061</td>\n",
       "    </tr>\n",
       "    <tr>\n",
       "      <th>53</th>\n",
       "      <td>54</td>\n",
       "      <td>M</td>\n",
       "      <td>14</td>\n",
       "      <td>26</td>\n",
       "      <td>120</td>\n",
       "      <td>1033</td>\n",
       "      <td>0.115</td>\n",
       "      <td>0.149</td>\n",
       "      <td>0.209</td>\n",
       "      <td>0.063</td>\n",
       "    </tr>\n",
       "    <tr>\n",
       "      <th>54</th>\n",
       "      <td>55</td>\n",
       "      <td>M</td>\n",
       "      <td>18</td>\n",
       "      <td>25</td>\n",
       "      <td>97</td>\n",
       "      <td>713</td>\n",
       "      <td>0.091</td>\n",
       "      <td>0.071</td>\n",
       "      <td>0.162</td>\n",
       "      <td>0.057</td>\n",
       "    </tr>\n",
       "    <tr>\n",
       "      <th>55</th>\n",
       "      <td>56</td>\n",
       "      <td>B</td>\n",
       "      <td>18</td>\n",
       "      <td>13</td>\n",
       "      <td>73</td>\n",
       "      <td>409</td>\n",
       "      <td>0.095</td>\n",
       "      <td>0.055</td>\n",
       "      <td>0.192</td>\n",
       "      <td>0.059</td>\n",
       "    </tr>\n",
       "    <tr>\n",
       "      <th>56</th>\n",
       "      <td>57</td>\n",
       "      <td>M</td>\n",
       "      <td>10</td>\n",
       "      <td>19</td>\n",
       "      <td>126</td>\n",
       "      <td>1152</td>\n",
       "      <td>0.105</td>\n",
       "      <td>0.127</td>\n",
       "      <td>0.192</td>\n",
       "      <td>0.060</td>\n",
       "    </tr>\n",
       "    <tr>\n",
       "      <th>57</th>\n",
       "      <td>58</td>\n",
       "      <td>M</td>\n",
       "      <td>17</td>\n",
       "      <td>20</td>\n",
       "      <td>96</td>\n",
       "      <td>657</td>\n",
       "      <td>0.114</td>\n",
       "      <td>0.137</td>\n",
       "      <td>0.203</td>\n",
       "      <td>0.068</td>\n",
       "    </tr>\n",
       "    <tr>\n",
       "      <th>58</th>\n",
       "      <td>59</td>\n",
       "      <td>B</td>\n",
       "      <td>22</td>\n",
       "      <td>15</td>\n",
       "      <td>83</td>\n",
       "      <td>527</td>\n",
       "      <td>0.081</td>\n",
       "      <td>0.038</td>\n",
       "      <td>0.182</td>\n",
       "      <td>0.055</td>\n",
       "    </tr>\n",
       "    <tr>\n",
       "      <th>59</th>\n",
       "      <td>60</td>\n",
       "      <td>B</td>\n",
       "      <td>23</td>\n",
       "      <td>26</td>\n",
       "      <td>54</td>\n",
       "      <td>225</td>\n",
       "      <td>0.098</td>\n",
       "      <td>0.053</td>\n",
       "      <td>0.168</td>\n",
       "      <td>0.072</td>\n",
       "    </tr>\n",
       "  </tbody>\n",
       "</table>\n",
       "</div>"
      ],
      "text/plain": [
       "    id diagnosis_result  radius  texture  perimeter  area  smoothness  \\\n",
       "0    1                M      23       12        151   954       0.143   \n",
       "1    2                B       9       13        133  1326       0.143   \n",
       "2    3                M      21       27        130  1203       0.125   \n",
       "3    4                M      14       16         78   386       0.070   \n",
       "4    5                M       9       19        135  1297       0.141   \n",
       "5    6                B      25       25         83   477       0.128   \n",
       "6    7                M      16       26        120  1040       0.095   \n",
       "7    8                M      15       18         90   578       0.119   \n",
       "8    9                M      19       24         88   520       0.127   \n",
       "9   10                M      25       11         84   476       0.119   \n",
       "10  11                M      24       21        103   798       0.082   \n",
       "11  12                M      17       15        104   781       0.097   \n",
       "12  13                B      14       15        132  1123       0.097   \n",
       "13  14                M      12       22        104   783       0.084   \n",
       "14  15                M      12       13         94   578       0.113   \n",
       "15  16                M      22       19         97   659       0.114   \n",
       "16  17                M      10       16         95   685       0.099   \n",
       "17  18                M      15       14        108   799       0.117   \n",
       "18  19                M      20       14        130  1260       0.098   \n",
       "19  20                B      17       11         87   566       0.098   \n",
       "20  21                B      16       14         86   520       0.108   \n",
       "21  22                B      17       24         60   274       0.102   \n",
       "22  23                M      20       27        103   704       0.107   \n",
       "23  24                M      19       12        137  1404       0.094   \n",
       "24  25                M       9       13        110   905       0.112   \n",
       "25  26                M      19       27        116   913       0.119   \n",
       "26  27                M      10       24         97   645       0.105   \n",
       "27  28                M      16       24        122  1094       0.094   \n",
       "28  29                M      15       15        102   732       0.108   \n",
       "29  30                M      11       16        115   955       0.098   \n",
       "30  31                M      11       22        125  1088       0.106   \n",
       "31  32                M      23       26         78   441       0.111   \n",
       "32  33                M      20       18        113   899       0.120   \n",
       "33  34                M      11       21        128  1162       0.094   \n",
       "34  35                M      16       23        107   807       0.104   \n",
       "35  36                M      10       13        110   870       0.096   \n",
       "36  37                M      18       12         94   633       0.098   \n",
       "37  38                B      21       11         83   524       0.090   \n",
       "38  39                M      11       15         96   699       0.094   \n",
       "39  40                M      10       14         88   559       0.102   \n",
       "40  41                M      24       16         86   563       0.082   \n",
       "41  42                M      19       27         72   371       0.123   \n",
       "42  43                M      11       11        128  1104       0.091   \n",
       "43  44                M      15       21         87   545       0.104   \n",
       "44  45                M      10       15         85   532       0.097   \n",
       "45  46                M      18       11        124  1076       0.110   \n",
       "46  47                B      22       12         52   202       0.086   \n",
       "47  48                M      20       14         86   535       0.116   \n",
       "48  49                B      20       21         78   449       0.103   \n",
       "49  50                B      25       11         87   561       0.088   \n",
       "50  51                B      19       25         75   428       0.086   \n",
       "51  52                B      19       22         87   572       0.077   \n",
       "52  53                B      25       15         76   438       0.083   \n",
       "53  54                M      14       26        120  1033       0.115   \n",
       "54  55                M      18       25         97   713       0.091   \n",
       "55  56                B      18       13         73   409       0.095   \n",
       "56  57                M      10       19        126  1152       0.105   \n",
       "57  58                M      17       20         96   657       0.114   \n",
       "58  59                B      22       15         83   527       0.081   \n",
       "59  60                B      23       26         54   225       0.098   \n",
       "\n",
       "    compactness  symmetry  fractal_dimension  \n",
       "0         0.278     0.242              0.079  \n",
       "1         0.079     0.181              0.057  \n",
       "2         0.160     0.207              0.060  \n",
       "3         0.284     0.260              0.097  \n",
       "4         0.133     0.181              0.059  \n",
       "5         0.170     0.209              0.076  \n",
       "6         0.109     0.179              0.057  \n",
       "7         0.165     0.220              0.075  \n",
       "8         0.193     0.235              0.074  \n",
       "9         0.240     0.203              0.082  \n",
       "10        0.067     0.153              0.057  \n",
       "11        0.129     0.184              0.061  \n",
       "12        0.246     0.240              0.078  \n",
       "13        0.100     0.185              0.053  \n",
       "14        0.229     0.207              0.077  \n",
       "15        0.160     0.230              0.071  \n",
       "16        0.072     0.159              0.059  \n",
       "17        0.202     0.216              0.074  \n",
       "18        0.103     0.158              0.054  \n",
       "19        0.081     0.189              0.058  \n",
       "20        0.127     0.197              0.068  \n",
       "21        0.065     0.182              0.069  \n",
       "22        0.214     0.252              0.070  \n",
       "23        0.102     0.177              0.053  \n",
       "24        0.146     0.200              0.063  \n",
       "25        0.228     0.304              0.074  \n",
       "26        0.187     0.225              0.069  \n",
       "27        0.107     0.170              0.057  \n",
       "28        0.170     0.193              0.065  \n",
       "29        0.116     0.174              0.061  \n",
       "30        0.189     0.218              0.062  \n",
       "31        0.152     0.230              0.078  \n",
       "32        0.150     0.225              0.064  \n",
       "33        0.172     0.185              0.063  \n",
       "34        0.156     0.200              0.065  \n",
       "35        0.134     0.190              0.057  \n",
       "36        0.110     0.189              0.061  \n",
       "37        0.038     0.147              0.059  \n",
       "38        0.051     0.157              0.055  \n",
       "39        0.126     0.172              0.064  \n",
       "40        0.060     0.178              0.056  \n",
       "41        0.122     0.190              0.069  \n",
       "42        0.219     0.231              0.063  \n",
       "43        0.144     0.197              0.068  \n",
       "44        0.105     0.175              0.062  \n",
       "45        0.169     0.191              0.060  \n",
       "46        0.059     0.177              0.065  \n",
       "47        0.123     0.213              0.068  \n",
       "48        0.091     0.168              0.060  \n",
       "49        0.077     0.181              0.057  \n",
       "50        0.050     0.150              0.059  \n",
       "51        0.061     0.135              0.060  \n",
       "52        0.048     0.187              0.061  \n",
       "53        0.149     0.209              0.063  \n",
       "54        0.071     0.162              0.057  \n",
       "55        0.055     0.192              0.059  \n",
       "56        0.127     0.192              0.060  \n",
       "57        0.137     0.203              0.068  \n",
       "58        0.038     0.182              0.055  \n",
       "59        0.053     0.168              0.072  "
      ]
     },
     "execution_count": 400,
     "metadata": {},
     "output_type": "execute_result"
    }
   ],
   "source": [
    "df.head(60)"
   ]
  },
  {
   "cell_type": "code",
   "execution_count": 358,
   "metadata": {},
   "outputs": [
    {
     "data": {
      "text/plain": [
       "Index(['id', 'diagnosis_result', 'radius', 'texture', 'perimeter', 'area',\n",
       "       'smoothness', 'compactness', 'symmetry', 'fractal_dimension'],\n",
       "      dtype='object')"
      ]
     },
     "execution_count": 358,
     "metadata": {},
     "output_type": "execute_result"
    }
   ],
   "source": [
    "df.columns"
   ]
  },
  {
   "cell_type": "code",
   "execution_count": 359,
   "metadata": {},
   "outputs": [
    {
     "data": {
      "text/html": [
       "<div>\n",
       "<style scoped>\n",
       "    .dataframe tbody tr th:only-of-type {\n",
       "        vertical-align: middle;\n",
       "    }\n",
       "\n",
       "    .dataframe tbody tr th {\n",
       "        vertical-align: top;\n",
       "    }\n",
       "\n",
       "    .dataframe thead th {\n",
       "        text-align: right;\n",
       "    }\n",
       "</style>\n",
       "<table border=\"1\" class=\"dataframe\">\n",
       "  <thead>\n",
       "    <tr style=\"text-align: right;\">\n",
       "      <th></th>\n",
       "      <th>id</th>\n",
       "      <th>radius</th>\n",
       "      <th>texture</th>\n",
       "      <th>perimeter</th>\n",
       "      <th>area</th>\n",
       "      <th>smoothness</th>\n",
       "      <th>compactness</th>\n",
       "      <th>symmetry</th>\n",
       "      <th>fractal_dimension</th>\n",
       "    </tr>\n",
       "  </thead>\n",
       "  <tbody>\n",
       "    <tr>\n",
       "      <th>count</th>\n",
       "      <td>100.000000</td>\n",
       "      <td>100.000000</td>\n",
       "      <td>100.000000</td>\n",
       "      <td>100.000000</td>\n",
       "      <td>100.000000</td>\n",
       "      <td>100.000000</td>\n",
       "      <td>100.000000</td>\n",
       "      <td>100.000000</td>\n",
       "      <td>100.000000</td>\n",
       "    </tr>\n",
       "    <tr>\n",
       "      <th>mean</th>\n",
       "      <td>50.500000</td>\n",
       "      <td>16.850000</td>\n",
       "      <td>18.230000</td>\n",
       "      <td>96.780000</td>\n",
       "      <td>702.880000</td>\n",
       "      <td>0.102730</td>\n",
       "      <td>0.126700</td>\n",
       "      <td>0.193170</td>\n",
       "      <td>0.064690</td>\n",
       "    </tr>\n",
       "    <tr>\n",
       "      <th>std</th>\n",
       "      <td>29.011492</td>\n",
       "      <td>4.879094</td>\n",
       "      <td>5.192954</td>\n",
       "      <td>23.676089</td>\n",
       "      <td>319.710895</td>\n",
       "      <td>0.014642</td>\n",
       "      <td>0.061144</td>\n",
       "      <td>0.030785</td>\n",
       "      <td>0.008151</td>\n",
       "    </tr>\n",
       "    <tr>\n",
       "      <th>min</th>\n",
       "      <td>1.000000</td>\n",
       "      <td>9.000000</td>\n",
       "      <td>11.000000</td>\n",
       "      <td>52.000000</td>\n",
       "      <td>202.000000</td>\n",
       "      <td>0.070000</td>\n",
       "      <td>0.038000</td>\n",
       "      <td>0.135000</td>\n",
       "      <td>0.053000</td>\n",
       "    </tr>\n",
       "    <tr>\n",
       "      <th>25%</th>\n",
       "      <td>25.750000</td>\n",
       "      <td>12.000000</td>\n",
       "      <td>14.000000</td>\n",
       "      <td>82.500000</td>\n",
       "      <td>476.750000</td>\n",
       "      <td>0.093500</td>\n",
       "      <td>0.080500</td>\n",
       "      <td>0.172000</td>\n",
       "      <td>0.059000</td>\n",
       "    </tr>\n",
       "    <tr>\n",
       "      <th>50%</th>\n",
       "      <td>50.500000</td>\n",
       "      <td>17.000000</td>\n",
       "      <td>17.500000</td>\n",
       "      <td>94.000000</td>\n",
       "      <td>644.000000</td>\n",
       "      <td>0.102000</td>\n",
       "      <td>0.118500</td>\n",
       "      <td>0.190000</td>\n",
       "      <td>0.063000</td>\n",
       "    </tr>\n",
       "    <tr>\n",
       "      <th>75%</th>\n",
       "      <td>75.250000</td>\n",
       "      <td>21.000000</td>\n",
       "      <td>22.250000</td>\n",
       "      <td>114.250000</td>\n",
       "      <td>917.000000</td>\n",
       "      <td>0.112000</td>\n",
       "      <td>0.157000</td>\n",
       "      <td>0.209000</td>\n",
       "      <td>0.069000</td>\n",
       "    </tr>\n",
       "    <tr>\n",
       "      <th>max</th>\n",
       "      <td>100.000000</td>\n",
       "      <td>25.000000</td>\n",
       "      <td>27.000000</td>\n",
       "      <td>172.000000</td>\n",
       "      <td>1878.000000</td>\n",
       "      <td>0.143000</td>\n",
       "      <td>0.345000</td>\n",
       "      <td>0.304000</td>\n",
       "      <td>0.097000</td>\n",
       "    </tr>\n",
       "  </tbody>\n",
       "</table>\n",
       "</div>"
      ],
      "text/plain": [
       "               id      radius     texture   perimeter         area  \\\n",
       "count  100.000000  100.000000  100.000000  100.000000   100.000000   \n",
       "mean    50.500000   16.850000   18.230000   96.780000   702.880000   \n",
       "std     29.011492    4.879094    5.192954   23.676089   319.710895   \n",
       "min      1.000000    9.000000   11.000000   52.000000   202.000000   \n",
       "25%     25.750000   12.000000   14.000000   82.500000   476.750000   \n",
       "50%     50.500000   17.000000   17.500000   94.000000   644.000000   \n",
       "75%     75.250000   21.000000   22.250000  114.250000   917.000000   \n",
       "max    100.000000   25.000000   27.000000  172.000000  1878.000000   \n",
       "\n",
       "       smoothness  compactness    symmetry  fractal_dimension  \n",
       "count  100.000000   100.000000  100.000000         100.000000  \n",
       "mean     0.102730     0.126700    0.193170           0.064690  \n",
       "std      0.014642     0.061144    0.030785           0.008151  \n",
       "min      0.070000     0.038000    0.135000           0.053000  \n",
       "25%      0.093500     0.080500    0.172000           0.059000  \n",
       "50%      0.102000     0.118500    0.190000           0.063000  \n",
       "75%      0.112000     0.157000    0.209000           0.069000  \n",
       "max      0.143000     0.345000    0.304000           0.097000  "
      ]
     },
     "execution_count": 359,
     "metadata": {},
     "output_type": "execute_result"
    }
   ],
   "source": [
    "df.describe()"
   ]
  },
  {
   "cell_type": "code",
   "execution_count": 360,
   "metadata": {},
   "outputs": [
    {
     "data": {
      "text/plain": [
       "(100, 10)"
      ]
     },
     "execution_count": 360,
     "metadata": {},
     "output_type": "execute_result"
    }
   ],
   "source": [
    "df.shape"
   ]
  },
  {
   "cell_type": "code",
   "execution_count": 361,
   "metadata": {},
   "outputs": [
    {
     "data": {
      "text/plain": [
       "id                   0\n",
       "diagnosis_result     0\n",
       "radius               0\n",
       "texture              0\n",
       "perimeter            0\n",
       "area                 0\n",
       "smoothness           0\n",
       "compactness          0\n",
       "symmetry             0\n",
       "fractal_dimension    0\n",
       "dtype: int64"
      ]
     },
     "execution_count": 361,
     "metadata": {},
     "output_type": "execute_result"
    }
   ],
   "source": [
    "df.isnull().sum()"
   ]
  },
  {
   "cell_type": "code",
   "execution_count": 362,
   "metadata": {},
   "outputs": [],
   "source": [
    "# frquency count of categorical variables\n",
    "\n",
    "col_names = ['diagnosis_result', 'radius', 'texture', 'perimeter', 'area',\n",
    "       'smoothness', 'compactness', 'symmetry', 'fractal_dimension']\n"
   ]
  },
  {
   "cell_type": "code",
   "execution_count": 363,
   "metadata": {},
   "outputs": [
    {
     "name": "stdout",
     "output_type": "stream",
     "text": [
      "M    62\n",
      "B    38\n",
      "Name: diagnosis_result, dtype: int64\n",
      "10    11\n",
      "19     9\n",
      "16     8\n",
      "11     8\n",
      "22     7\n",
      "25     6\n",
      "21     6\n",
      "20     6\n",
      "18     6\n",
      "17     6\n",
      "23     5\n",
      "15     5\n",
      "14     5\n",
      "12     5\n",
      "9      4\n",
      "24     3\n",
      "Name: radius, dtype: int64\n",
      "15    9\n",
      "21    9\n",
      "11    8\n",
      "13    8\n",
      "14    8\n",
      "26    7\n",
      "12    7\n",
      "18    7\n",
      "27    7\n",
      "16    6\n",
      "24    5\n",
      "17    4\n",
      "22    4\n",
      "25    4\n",
      "19    4\n",
      "23    2\n",
      "20    1\n",
      "Name: texture, dtype: int64\n",
      "83     5\n",
      "87     5\n",
      "86     4\n",
      "97     4\n",
      "94     4\n",
      "78     4\n",
      "96     4\n",
      "120    3\n",
      "59     3\n",
      "104    3\n",
      "88     3\n",
      "60     2\n",
      "72     2\n",
      "74     2\n",
      "95     2\n",
      "85     2\n",
      "90     2\n",
      "132    2\n",
      "130    2\n",
      "128    2\n",
      "100    2\n",
      "103    2\n",
      "124    2\n",
      "110    2\n",
      "122    2\n",
      "151    1\n",
      "121    1\n",
      "55     1\n",
      "54     1\n",
      "52     1\n",
      "172    1\n",
      "137    1\n",
      "144    1\n",
      "62     1\n",
      "135    1\n",
      "133    1\n",
      "129    1\n",
      "116    1\n",
      "115    1\n",
      "65     1\n",
      "102    1\n",
      "73     1\n",
      "114    1\n",
      "75     1\n",
      "76     1\n",
      "77     1\n",
      "113    1\n",
      "79     1\n",
      "80     1\n",
      "81     1\n",
      "125    1\n",
      "84     1\n",
      "108    1\n",
      "107    1\n",
      "126    1\n",
      "Name: perimeter, dtype: int64\n",
      "520     3\n",
      "1076    2\n",
      "578     2\n",
      "559     2\n",
      "535     1\n",
      "       ..\n",
      "1033    1\n",
      "269     1\n",
      "471     1\n",
      "663     1\n",
      "1152    1\n",
      "Name: area, Length: 95, dtype: int64\n",
      "0.098    8\n",
      "0.094    5\n",
      "0.090    5\n",
      "0.105    4\n",
      "0.097    4\n",
      "0.107    4\n",
      "0.102    4\n",
      "0.104    4\n",
      "0.108    3\n",
      "0.091    3\n",
      "0.092    3\n",
      "0.113    3\n",
      "0.099    3\n",
      "0.119    3\n",
      "0.106    2\n",
      "0.114    2\n",
      "0.077    2\n",
      "0.095    2\n",
      "0.081    2\n",
      "0.082    2\n",
      "0.086    2\n",
      "0.112    2\n",
      "0.088    2\n",
      "0.110    2\n",
      "0.117    2\n",
      "0.143    2\n",
      "0.129    2\n",
      "0.141    1\n",
      "0.116    1\n",
      "0.103    1\n",
      "0.120    1\n",
      "0.111    1\n",
      "0.084    1\n",
      "0.070    1\n",
      "0.127    1\n",
      "0.115    1\n",
      "0.128    1\n",
      "0.124    1\n",
      "0.122    1\n",
      "0.096    1\n",
      "0.123    1\n",
      "0.083    1\n",
      "0.101    1\n",
      "0.074    1\n",
      "0.125    1\n",
      "Name: smoothness, dtype: int64\n",
      "0.105    3\n",
      "0.038    2\n",
      "0.160    2\n",
      "0.071    2\n",
      "0.134    2\n",
      "        ..\n",
      "0.193    1\n",
      "0.110    1\n",
      "0.091    1\n",
      "0.100    1\n",
      "0.067    1\n",
      "Name: compactness, Length: 85, dtype: int64\n",
      "0.172    5\n",
      "0.190    4\n",
      "0.181    3\n",
      "0.193    3\n",
      "0.195    3\n",
      "        ..\n",
      "0.178    1\n",
      "0.218    1\n",
      "0.252    1\n",
      "0.164    1\n",
      "0.170    1\n",
      "Name: symmetry, Length: 64, dtype: int64\n",
      "0.057    10\n",
      "0.060     8\n",
      "0.059     7\n",
      "0.068     6\n",
      "0.063     6\n",
      "0.069     6\n",
      "0.061     5\n",
      "0.066     5\n",
      "0.056     4\n",
      "0.070     4\n",
      "0.064     4\n",
      "0.065     4\n",
      "0.053     3\n",
      "0.074     3\n",
      "0.055     3\n",
      "0.054     2\n",
      "0.067     2\n",
      "0.078     2\n",
      "0.062     2\n",
      "0.072     2\n",
      "0.090     1\n",
      "0.082     1\n",
      "0.097     1\n",
      "0.075     1\n",
      "0.073     1\n",
      "0.077     1\n",
      "0.081     1\n",
      "0.071     1\n",
      "0.058     1\n",
      "0.080     1\n",
      "0.076     1\n",
      "0.079     1\n",
      "Name: fractal_dimension, dtype: int64\n"
     ]
    }
   ],
   "source": [
    "for col in col_names:\n",
    "    \n",
    "    print(df[col].value_counts())   "
   ]
  },
  {
   "cell_type": "code",
   "execution_count": 364,
   "metadata": {},
   "outputs": [
    {
     "data": {
      "text/plain": [
       "M    62\n",
       "B    38\n",
       "Name: diagnosis_result, dtype: int64"
      ]
     },
     "execution_count": 364,
     "metadata": {},
     "output_type": "execute_result"
    }
   ],
   "source": [
    "# target variable\n",
    "df['diagnosis_result'].value_counts()"
   ]
  },
  {
   "cell_type": "code",
   "execution_count": 365,
   "metadata": {},
   "outputs": [],
   "source": [
    "X = df.drop(['diagnosis_result'], axis=1)\n",
    "\n",
    "y =  df.drop(['radius', 'texture', 'perimeter', 'area',\n",
    "       'smoothness', 'compactness', 'symmetry', 'fractal_dimension','id'], axis=1)"
   ]
  },
  {
   "cell_type": "code",
   "execution_count": 366,
   "metadata": {},
   "outputs": [
    {
     "data": {
      "text/html": [
       "<div>\n",
       "<style scoped>\n",
       "    .dataframe tbody tr th:only-of-type {\n",
       "        vertical-align: middle;\n",
       "    }\n",
       "\n",
       "    .dataframe tbody tr th {\n",
       "        vertical-align: top;\n",
       "    }\n",
       "\n",
       "    .dataframe thead th {\n",
       "        text-align: right;\n",
       "    }\n",
       "</style>\n",
       "<table border=\"1\" class=\"dataframe\">\n",
       "  <thead>\n",
       "    <tr style=\"text-align: right;\">\n",
       "      <th></th>\n",
       "      <th>diagnosis_result</th>\n",
       "    </tr>\n",
       "  </thead>\n",
       "  <tbody>\n",
       "    <tr>\n",
       "      <th>0</th>\n",
       "      <td>M</td>\n",
       "    </tr>\n",
       "    <tr>\n",
       "      <th>1</th>\n",
       "      <td>B</td>\n",
       "    </tr>\n",
       "    <tr>\n",
       "      <th>2</th>\n",
       "      <td>M</td>\n",
       "    </tr>\n",
       "    <tr>\n",
       "      <th>3</th>\n",
       "      <td>M</td>\n",
       "    </tr>\n",
       "    <tr>\n",
       "      <th>4</th>\n",
       "      <td>M</td>\n",
       "    </tr>\n",
       "    <tr>\n",
       "      <th>...</th>\n",
       "      <td>...</td>\n",
       "    </tr>\n",
       "    <tr>\n",
       "      <th>95</th>\n",
       "      <td>M</td>\n",
       "    </tr>\n",
       "    <tr>\n",
       "      <th>96</th>\n",
       "      <td>B</td>\n",
       "    </tr>\n",
       "    <tr>\n",
       "      <th>97</th>\n",
       "      <td>B</td>\n",
       "    </tr>\n",
       "    <tr>\n",
       "      <th>98</th>\n",
       "      <td>B</td>\n",
       "    </tr>\n",
       "    <tr>\n",
       "      <th>99</th>\n",
       "      <td>M</td>\n",
       "    </tr>\n",
       "  </tbody>\n",
       "</table>\n",
       "<p>100 rows × 1 columns</p>\n",
       "</div>"
      ],
      "text/plain": [
       "   diagnosis_result\n",
       "0                 M\n",
       "1                 B\n",
       "2                 M\n",
       "3                 M\n",
       "4                 M\n",
       "..              ...\n",
       "95                M\n",
       "96                B\n",
       "97                B\n",
       "98                B\n",
       "99                M\n",
       "\n",
       "[100 rows x 1 columns]"
      ]
     },
     "execution_count": 366,
     "metadata": {},
     "output_type": "execute_result"
    }
   ],
   "source": [
    "y"
   ]
  },
  {
   "cell_type": "code",
   "execution_count": 367,
   "metadata": {},
   "outputs": [
    {
     "data": {
      "text/plain": [
       "diagnosis_result    object\n",
       "dtype: object"
      ]
     },
     "execution_count": 367,
     "metadata": {},
     "output_type": "execute_result"
    }
   ],
   "source": [
    "y.dtypes"
   ]
  },
  {
   "cell_type": "code",
   "execution_count": 368,
   "metadata": {},
   "outputs": [],
   "source": [
    "# split X and y into training and testing sets\n",
    "\n",
    "from sklearn.model_selection import train_test_split\n",
    "\n",
    "X_train, X_test, y_train, y_test = train_test_split(X, y, test_size = 0.30, random_state = 42)"
   ]
  },
  {
   "cell_type": "code",
   "execution_count": 369,
   "metadata": {},
   "outputs": [
    {
     "data": {
      "text/plain": [
       "((70, 9), (30, 9))"
      ]
     },
     "execution_count": 369,
     "metadata": {},
     "output_type": "execute_result"
    }
   ],
   "source": [
    "\n",
    "X_train.shape, X_test.shape"
   ]
  },
  {
   "cell_type": "code",
   "execution_count": 370,
   "metadata": {},
   "outputs": [
    {
     "data": {
      "text/plain": [
       "id                     int64\n",
       "radius                 int64\n",
       "texture                int64\n",
       "perimeter              int64\n",
       "area                   int64\n",
       "smoothness           float64\n",
       "compactness          float64\n",
       "symmetry             float64\n",
       "fractal_dimension    float64\n",
       "dtype: object"
      ]
     },
     "execution_count": 370,
     "metadata": {},
     "output_type": "execute_result"
    }
   ],
   "source": [
    "# check data types in X_train\n",
    "\n",
    "X_train.dtypes"
   ]
  },
  {
   "cell_type": "code",
   "execution_count": 372,
   "metadata": {},
   "outputs": [],
   "source": [
    "from sklearn.tree import DecisionTreeClassifier"
   ]
  },
  {
   "cell_type": "code",
   "execution_count": 373,
   "metadata": {},
   "outputs": [],
   "source": [
    "\n",
    "clf_gini = DecisionTreeClassifier(criterion='gini', max_depth=9, random_state=42)\n",
    "\n",
    "\n"
   ]
  },
  {
   "cell_type": "code",
   "execution_count": 374,
   "metadata": {},
   "outputs": [],
   "source": [
    "import warnings\n",
    "\n",
    "warnings.filterwarnings('ignore')"
   ]
  },
  {
   "cell_type": "code",
   "execution_count": 375,
   "metadata": {},
   "outputs": [
    {
     "data": {
      "text/plain": [
       "DecisionTreeClassifier(ccp_alpha=0.0, class_weight=None, criterion='gini',\n",
       "                       max_depth=9, max_features=None, max_leaf_nodes=None,\n",
       "                       min_impurity_decrease=0.0, min_impurity_split=None,\n",
       "                       min_samples_leaf=1, min_samples_split=2,\n",
       "                       min_weight_fraction_leaf=0.0, presort='deprecated',\n",
       "                       random_state=42, splitter='best')"
      ]
     },
     "execution_count": 375,
     "metadata": {},
     "output_type": "execute_result"
    }
   ],
   "source": [
    "# fit the model\n",
    "clf_gini.fit(X_train, y_train)"
   ]
  },
  {
   "cell_type": "markdown",
   "metadata": {},
   "source": [
    "### Predict the Test set results with criterion gini index¶\n"
   ]
  },
  {
   "cell_type": "code",
   "execution_count": 399,
   "metadata": {},
   "outputs": [],
   "source": [
    "y_pred_gini_test = clf_gini.predict(X_test)"
   ]
  },
  {
   "cell_type": "code",
   "execution_count": 398,
   "metadata": {},
   "outputs": [
    {
     "data": {
      "text/plain": [
       "array(['M', 'M', 'M', 'M', 'B', 'M', 'M', 'B', 'M', 'B', 'M', 'M', 'M',\n",
       "       'M', 'M', 'M', 'M', 'M', 'M', 'B', 'B', 'B', 'M', 'M', 'B', 'M',\n",
       "       'B', 'B', 'B', 'M'], dtype=object)"
      ]
     },
     "execution_count": 398,
     "metadata": {},
     "output_type": "execute_result"
    }
   ],
   "source": [
    "y_pred_gini_test"
   ]
  },
  {
   "cell_type": "code",
   "execution_count": 377,
   "metadata": {},
   "outputs": [
    {
     "name": "stdout",
     "output_type": "stream",
     "text": [
      "Model accuracy score with criterion gini index: 0.7333\n"
     ]
    }
   ],
   "source": [
    "from sklearn.metrics import accuracy_score\n",
    "\n",
    "print('Model accuracy score with criterion gini index: {0:0.4f}'. format(accuracy_score(y_test, y_pred_gini)))"
   ]
  },
  {
   "cell_type": "markdown",
   "metadata": {},
   "source": [
    "Here, y_test are the true class labels and y_pred_gini are the predicted class labels in the test-set."
   ]
  },
  {
   "cell_type": "markdown",
   "metadata": {},
   "source": [
    "### Compare the train-set and test-set accuracy -Now, I will compare the train-set and test-set accuracy to check for overfitting."
   ]
  },
  {
   "cell_type": "code",
   "execution_count": 378,
   "metadata": {},
   "outputs": [
    {
     "data": {
      "text/plain": [
       "array(['M', 'M', 'M', 'M', 'B', 'B', 'B', 'M', 'M', 'M', 'B', 'M', 'M',\n",
       "       'M', 'M', 'B', 'B', 'M', 'M', 'M', 'M', 'M', 'M', 'M', 'M', 'M',\n",
       "       'M', 'M', 'M', 'B', 'M', 'M', 'M', 'M', 'B', 'B', 'B', 'B', 'B',\n",
       "       'B', 'B', 'M', 'B', 'B', 'B', 'M', 'M', 'M', 'M', 'B', 'B', 'B',\n",
       "       'B', 'M', 'B', 'B', 'B', 'M', 'M', 'M', 'M', 'B', 'M', 'M', 'B',\n",
       "       'B', 'B', 'M', 'B', 'B'], dtype=object)"
      ]
     },
     "execution_count": 378,
     "metadata": {},
     "output_type": "execute_result"
    }
   ],
   "source": [
    "y_pred_train_gini = clf_gini.predict(X_train)\n",
    "\n",
    "y_pred_train_gini"
   ]
  },
  {
   "cell_type": "code",
   "execution_count": 379,
   "metadata": {},
   "outputs": [
    {
     "name": "stdout",
     "output_type": "stream",
     "text": [
      "Training-set accuracy score: 1.0000\n"
     ]
    }
   ],
   "source": [
    "print('Training-set accuracy score: {0:0.4f}'. format(accuracy_score(y_train, y_pred_train_gini)))"
   ]
  },
  {
   "cell_type": "markdown",
   "metadata": {},
   "source": [
    "### Check for overfitting and underfitting¶\n"
   ]
  },
  {
   "cell_type": "code",
   "execution_count": 380,
   "metadata": {},
   "outputs": [
    {
     "name": "stdout",
     "output_type": "stream",
     "text": [
      "Training set score: 1.0000\n",
      "Test set score: 0.7333\n"
     ]
    }
   ],
   "source": [
    "# print the scores on training and test set\n",
    "\n",
    "print('Training set score: {:.4f}'.format(clf_gini.score(X_train, y_train)))\n",
    "\n",
    "print('Test set score: {:.4f}'.format(clf_gini.score(X_test, y_test)))"
   ]
  },
  {
   "cell_type": "code",
   "execution_count": 328,
   "metadata": {},
   "outputs": [
    {
     "data": {
      "text/plain": [
       "[Text(267.84000000000003, 398.64, 'X[3] <= 87.5\\ngini = 0.49\\nsamples = 70\\nvalue = [30, 40]'),\n",
       " Text(133.92000000000002, 326.15999999999997, 'X[6] <= 0.109\\ngini = 0.257\\nsamples = 33\\nvalue = [28, 5]'),\n",
       " Text(66.96000000000001, 253.67999999999998, 'gini = 0.0\\nsamples = 23\\nvalue = [23, 0]'),\n",
       " Text(200.88000000000002, 253.67999999999998, 'X[6] <= 0.127\\ngini = 0.5\\nsamples = 10\\nvalue = [5, 5]'),\n",
       " Text(133.92000000000002, 181.2, 'gini = 0.0\\nsamples = 3\\nvalue = [0, 3]'),\n",
       " Text(267.84000000000003, 181.2, 'X[1] <= 15.5\\ngini = 0.408\\nsamples = 7\\nvalue = [5, 2]'),\n",
       " Text(200.88000000000002, 108.71999999999997, 'X[7] <= 0.193\\ngini = 0.444\\nsamples = 3\\nvalue = [1, 2]'),\n",
       " Text(133.92000000000002, 36.23999999999995, 'gini = 0.0\\nsamples = 1\\nvalue = [1, 0]'),\n",
       " Text(267.84000000000003, 36.23999999999995, 'gini = 0.0\\nsamples = 2\\nvalue = [0, 2]'),\n",
       " Text(334.80000000000007, 108.71999999999997, 'gini = 0.0\\nsamples = 4\\nvalue = [4, 0]'),\n",
       " Text(401.76000000000005, 326.15999999999997, 'X[0] <= 2.5\\ngini = 0.102\\nsamples = 37\\nvalue = [2, 35]'),\n",
       " Text(334.80000000000007, 253.67999999999998, 'gini = 0.0\\nsamples = 1\\nvalue = [1, 0]'),\n",
       " Text(468.72, 253.67999999999998, 'X[0] <= 89.0\\ngini = 0.054\\nsamples = 36\\nvalue = [1, 35]'),\n",
       " Text(401.76000000000005, 181.2, 'gini = 0.0\\nsamples = 31\\nvalue = [0, 31]'),\n",
       " Text(535.6800000000001, 181.2, 'X[7] <= 0.211\\ngini = 0.32\\nsamples = 5\\nvalue = [1, 4]'),\n",
       " Text(468.72, 108.71999999999997, 'gini = 0.0\\nsamples = 4\\nvalue = [0, 4]'),\n",
       " Text(602.6400000000001, 108.71999999999997, 'gini = 0.0\\nsamples = 1\\nvalue = [1, 0]')]"
      ]
     },
     "execution_count": 328,
     "metadata": {},
     "output_type": "execute_result"
    },
    {
     "data": {
      "image/png": "[encoded data removed]",
      "text/plain": [
       "<Figure size 864x576 with 1 Axes>"
      ]
     },
     "metadata": {
      "needs_background": "light"
     },
     "output_type": "display_data"
    }
   ],
   "source": [
    "import matplotlib.pyplot as plt # data visualization\n",
    "import seaborn as sns # statistical data visualization\n",
    "%matplotlib inline\n",
    "\n",
    "\n",
    "plt.figure(figsize=(12,8))\n",
    "\n",
    "from sklearn import tree\n",
    "\n",
    "tree.plot_tree(clf_gini.fit(X_train, y_train)) "
   ]
  },
  {
   "cell_type": "code",
   "execution_count": 329,
   "metadata": {},
   "outputs": [],
   "source": [
    "import graphviz \n",
    "import sklearn\n",
    "from sklearn import tree"
   ]
  },
  {
   "cell_type": "code",
   "execution_count": 381,
   "metadata": {},
   "outputs": [
    {
     "data": {
      "text/plain": [
       "diagnosis_result    object\n",
       "dtype: object"
      ]
     },
     "execution_count": 381,
     "metadata": {},
     "output_type": "execute_result"
    }
   ],
   "source": [
    "y_train.dtypes"
   ]
  },
  {
   "cell_type": "code",
   "execution_count": 401,
   "metadata": {},
   "outputs": [
    {
     "data": {
      "text/plain": [
       "DecisionTreeClassifier(ccp_alpha=0.0, class_weight=None, criterion='gini',\n",
       "                       max_depth=3, max_features=None, max_leaf_nodes=None,\n",
       "                       min_impurity_decrease=0.0, min_impurity_split=None,\n",
       "                       min_samples_leaf=8, min_samples_split=2,\n",
       "                       min_weight_fraction_leaf=0.0, presort='deprecated',\n",
       "                       random_state=42, splitter='best')"
      ]
     },
     "execution_count": 401,
     "metadata": {},
     "output_type": "execute_result"
    }
   ],
   "source": [
    "clf_en = DecisionTreeClassifier(criterion='gini', max_depth=3,min_samples_leaf=8, random_state=42)\n",
    "\n",
    "\n",
    "# fit the model\n",
    "clf_en.fit(X_train, y_train)"
   ]
  },
  {
   "cell_type": "code",
   "execution_count": 402,
   "metadata": {},
   "outputs": [],
   "source": [
    "y_pred_en = clf_en.predict(X_test)\n"
   ]
  },
  {
   "cell_type": "code",
   "execution_count": 403,
   "metadata": {},
   "outputs": [
    {
     "name": "stdout",
     "output_type": "stream",
     "text": [
      "Model accuracy score with criterion entropy: 0.7667\n"
     ]
    }
   ],
   "source": [
    "from sklearn.metrics import accuracy_score\n",
    "\n",
    "print('Model accuracy score with criterion entropy: {0:0.4f}'. format(accuracy_score(y_test, y_pred_en)))"
   ]
  },
  {
   "cell_type": "code",
   "execution_count": 404,
   "metadata": {},
   "outputs": [
    {
     "name": "stdout",
     "output_type": "stream",
     "text": [
      "Training-set accuracy score: 0.9000\n"
     ]
    }
   ],
   "source": [
    "y_pred_train_en = clf_en.predict(X_train)\n",
    "\n",
    "y_pred_train_en\n",
    "\n",
    "\n",
    "print('Training-set accuracy score: {0:0.4f}'. format(accuracy_score(y_train, y_pred_train_en)))"
   ]
  },
  {
   "cell_type": "code",
   "execution_count": 386,
   "metadata": {},
   "outputs": [
    {
     "name": "stdout",
     "output_type": "stream",
     "text": [
      "Training set score: 0.9571\n",
      "Test set score: 0.7000\n"
     ]
    }
   ],
   "source": [
    "# print the scores on training and test set\n",
    "\n",
    "print('Training set score: {:.4f}'.format(clf_en.score(X_train, y_train)))\n",
    "\n",
    "print('Test set score: {:.4f}'.format(clf_en.score(X_test, y_test)))"
   ]
  },
  {
   "cell_type": "code",
   "execution_count": 387,
   "metadata": {},
   "outputs": [
    {
     "name": "stdout",
     "output_type": "stream",
     "text": [
      "Confusion matrix\n",
      "\n",
      " [[ 5  3]\n",
      " [ 6 16]]\n"
     ]
    }
   ],
   "source": [
    "# Print the Confusion Matrix and slice it into 2 pieces\n",
    "\n",
    "from sklearn.metrics import confusion_matrix\n",
    "\n",
    "cm = confusion_matrix(y_test, y_pred_en)\n",
    "\n",
    "print('Confusion matrix\\n\\n', cm)"
   ]
  },
  {
   "cell_type": "code",
   "execution_count": 388,
   "metadata": {},
   "outputs": [
    {
     "name": "stdout",
     "output_type": "stream",
     "text": [
      "              precision    recall  f1-score   support\n",
      "\n",
      "           B       0.45      0.62      0.53         8\n",
      "           M       0.84      0.73      0.78        22\n",
      "\n",
      "    accuracy                           0.70        30\n",
      "   macro avg       0.65      0.68      0.65        30\n",
      "weighted avg       0.74      0.70      0.71        30\n",
      "\n"
     ]
    }
   ],
   "source": [
    "from sklearn.metrics import classification_report\n",
    "\n",
    "print(classification_report(y_test, y_pred_en))"
   ]
  },
  {
   "cell_type": "code",
   "execution_count": 389,
   "metadata": {},
   "outputs": [
    {
     "name": "stdout",
     "output_type": "stream",
     "text": [
      "Decision Tree Classification Score:  0.7666666666666667\n"
     ]
    },
    {
     "data": {
      "image/png": "[encoded data removed]",
      "text/plain": [
       "<Figure size 360x360 with 2 Axes>"
      ]
     },
     "metadata": {
      "needs_background": "light"
     },
     "output_type": "display_data"
    }
   ],
   "source": [
    "from sklearn.tree import DecisionTreeClassifier\n",
    "method_names=[]\n",
    "method_scores=[]\n",
    "dec_tree = DecisionTreeClassifier()\n",
    "dec_tree.fit(X_train,y_train)\n",
    "print(\"Decision Tree Classification Score: \",dec_tree.score(X_test,y_test))\n",
    "method_names.append(\"Decision Tree\")\n",
    "method_scores.append(dec_tree.score(X_test,y_test))\n",
    "\n",
    "#Confusion Matrix\n",
    "y_pred = dec_tree.predict(X_test)\n",
    "conf_mat = confusion_matrix(y_test,y_pred)\n",
    "#Visualization Confusion Matrix\n",
    "f, ax = plt.subplots(figsize=(5,5))\n",
    "sns.heatmap(conf_mat,annot=True,linewidths=0.5,linecolor=\"red\",fmt=\".0f\",ax=ax)\n",
    "plt.xlabel(\"Predicted Values\")\n",
    "plt.ylabel(\"True Values\")\n",
    "plt.show()"
   ]
  },
  {
   "cell_type": "code",
   "execution_count": 390,
   "metadata": {},
   "outputs": [
    {
     "name": "stdout",
     "output_type": "stream",
     "text": [
      "Naive Bayes Classification Score: 0.8333333333333334\n"
     ]
    },
    {
     "data": {
      "image/png": "[encoded data removed]",
      "text/plain": [
       "<Figure size 360x360 with 2 Axes>"
      ]
     },
     "metadata": {
      "needs_background": "light"
     },
     "output_type": "display_data"
    }
   ],
   "source": [
    "# Naive Bayes\n",
    "from sklearn.naive_bayes import GaussianNB\n",
    "naive_bayes = GaussianNB()\n",
    "naive_bayes.fit(X_test,y_test)\n",
    "print(\"Naive Bayes Classification Score: {}\".format(naive_bayes.score(X_test,y_test)))\n",
    "method_names.append(\"Naive Bayes\")\n",
    "method_scores.append(naive_bayes.score(X_test,y_test))\n",
    "\n",
    "#Confusion Matrix\n",
    "y_pred = naive_bayes.predict(X_test)\n",
    "conf_mat = confusion_matrix(y_test,y_pred)\n",
    "#Visualization Confusion Matrix\n",
    "f, ax = plt.subplots(figsize=(5,5))\n",
    "sns.heatmap(conf_mat,annot=True,linewidths=0.5,linecolor=\"red\",fmt=\".0f\",ax=ax)\n",
    "plt.xlabel(\"Predicted Values\")\n",
    "plt.ylabel(\"True Values\")\n",
    "plt.show()"
   ]
  },
  {
   "cell_type": "code",
   "execution_count": 391,
   "metadata": {},
   "outputs": [
    {
     "name": "stdout",
     "output_type": "stream",
     "text": [
      "SVM Classification Score is: 0.8333333333333334\n"
     ]
    },
    {
     "data": {
      "image/png": "[encoded data removed]",
      "text/plain": [
       "<Figure size 360x360 with 2 Axes>"
      ]
     },
     "metadata": {
      "needs_background": "light"
     },
     "output_type": "display_data"
    }
   ],
   "source": [
    "# SVM!\n",
    "from sklearn.svm import SVC\n",
    "svm = SVC(random_state=42)\n",
    "svm.fit(X_train,y_train)\n",
    "print(\"SVM Classification Score is: {}\".format(svm.score(X_test,y_test)))\n",
    "method_names.append(\"SVM\")\n",
    "method_scores.append(svm.score(X_test,y_test))\n",
    "\n",
    "#Confusion Matrix\n",
    "y_pred = svm.predict(X_test)\n",
    "conf_mat = confusion_matrix(y_test,y_pred)\n",
    "#Visualization Confusion Matrix\n",
    "f, ax = plt.subplots(figsize=(5,5))\n",
    "sns.heatmap(conf_mat,annot=True,linewidths=0.5,linecolor=\"red\",fmt=\".0f\",ax=ax)\n",
    "plt.xlabel(\"Predicted Values\")\n",
    "plt.ylabel(\"True Values\")\n",
    "plt.show()"
   ]
  },
  {
   "cell_type": "code",
   "execution_count": 392,
   "metadata": {},
   "outputs": [
    {
     "name": "stdout",
     "output_type": "stream",
     "text": [
      "Score for Number of Neighbors = 6: 0.7333333333333333\n"
     ]
    },
    {
     "data": {
      "image/png": "[encoded data removed]",
      "text/plain": [
       "<Figure size 360x360 with 2 Axes>"
      ]
     },
     "metadata": {
      "needs_background": "light"
     },
     "output_type": "display_data"
    }
   ],
   "source": [
    "# Continue with; KNN Classification!\n",
    "from sklearn.neighbors import KNeighborsClassifier\n",
    "knn = KNeighborsClassifier(n_neighbors=6)  # 5 is optional.\n",
    "knn.fit(X_train,y_train)\n",
    "print(\"Score for Number of Neighbors = 6: {}\".format(knn.score(X_test,y_test)))\n",
    "method_names.append(\"KNN\")\n",
    "method_scores.append(knn.score(X_test,y_test))\n",
    "\n",
    "#Confusion Matrix\n",
    "y_pred = knn.predict(X_test)\n",
    "conf_mat = confusion_matrix(y_test,y_pred)\n",
    "#Visualization Confusion Matrix\n",
    "f, ax = plt.subplots(figsize=(5,5))\n",
    "sns.heatmap(conf_mat,annot=True,linewidths=0.5,linecolor=\"red\",fmt=\".0f\",ax=ax)\n",
    "plt.xlabel(\"Predicted Values\")\n",
    "plt.ylabel(\"True Values\")\n",
    "plt.show()"
   ]
  },
  {
   "cell_type": "code",
   "execution_count": 393,
   "metadata": {},
   "outputs": [
    {
     "name": "stdout",
     "output_type": "stream",
     "text": [
      "Logistic Regression Classification Test Accuracy 0.8333333333333334\n"
     ]
    },
    {
     "data": {
      "image/png": "[encoded data removed]",
      "text/plain": [
       "<Figure size 360x360 with 2 Axes>"
      ]
     },
     "metadata": {
      "needs_background": "light"
     },
     "output_type": "display_data"
    }
   ],
   "source": [
    "# Firstly, we start with Logistic Regression\n",
    "from sklearn.linear_model import LogisticRegression\n",
    "log_reg = LogisticRegression()\n",
    "log_reg.fit(X_train, y_train) #Fitting\n",
    "print(\"Logistic Regression Classification Test Accuracy {}\".format(log_reg.score(X_test,y_test)))\n",
    "method_names.append(\"Logistic Reg.\")\n",
    "method_scores.append(log_reg.score(X_test,y_test))\n",
    "\n",
    "#Confusion Matrix\n",
    "y_pred = log_reg.predict(X_test)\n",
    "conf_mat = confusion_matrix(y_test,y_pred)\n",
    "#Visualization Confusion Matrix\n",
    "f, ax = plt.subplots(figsize=(5,5))\n",
    "sns.heatmap(conf_mat,annot=True,linewidths=0.5,linecolor=\"red\",fmt=\".0f\",ax=ax)\n",
    "plt.xlabel(\"Predicted Values\")\n",
    "plt.ylabel(\"True Values\")\n",
    "plt.show()"
   ]
  },
  {
   "cell_type": "code",
   "execution_count": 394,
   "metadata": {},
   "outputs": [
    {
     "data": {
      "text/plain": [
       "Text(0, 0.5, 'Method Score')"
      ]
     },
     "execution_count": 394,
     "metadata": {},
     "output_type": "execute_result"
    },
    {
     "data": {
      "image/png": "[encoded data removed]",
      "text/plain": [
       "<Figure size 1080x720 with 1 Axes>"
      ]
     },
     "metadata": {
      "needs_background": "light"
     },
     "output_type": "display_data"
    }
   ],
   "source": [
    "plt.figure(figsize=(15,10))\n",
    "plt.ylim([0.60,0.90])\n",
    "plt.bar(method_names,method_scores,width=0.5)\n",
    "plt.xlabel('Method Name')\n",
    "plt.ylabel('Method Score')"
   ]
  }
 ],
 "metadata": {
  "kernelspec": {
   "display_name": "Python 3",
   "language": "python",
   "name": "python3"
  },
  "language_info": {
   "codemirror_mode": {
    "name": "ipython",
    "version": 3
   },
   "file_extension": ".py",
   "mimetype": "text/x-python",
   "name": "python",
   "nbconvert_exporter": "python",
   "pygments_lexer": "ipython3",
   "version": "3.7.6"
  }
 },
 "nbformat": 4,
 "nbformat_minor": 4
}
